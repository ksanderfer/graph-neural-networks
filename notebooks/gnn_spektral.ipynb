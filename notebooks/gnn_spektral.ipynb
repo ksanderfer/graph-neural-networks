{
 "cells": [
  {
   "cell_type": "markdown",
   "id": "02ec6353",
   "metadata": {},
   "source": [
    "# Outline\n",
    "- Generate training and testing set\n",
    "- Train neural network\n",
    "- Test neural network\n",
    "- Analyze results"
   ]
  },
  {
   "cell_type": "code",
   "execution_count": 1,
   "id": "905edaa0",
   "metadata": {},
   "outputs": [],
   "source": [
    "# Import necessary libraries\n",
    "import graphcalc as gc\n",
    "import spektral as sp\n",
    "from spektral.data import Dataset, Graph, Loader\n",
    "import networkx as nx\n",
    "import random\n",
    "import numpy as np"
   ]
  },
  {
   "cell_type": "code",
   "execution_count": 9,
   "id": "14cebfdb",
   "metadata": {},
   "outputs": [],
   "source": [
    "NUM_GRAPHS = 2000\n",
    "MAX_NODES = 64\n",
    "SPLIT_INDEX = int(0.8 * NUM_GRAPHS)"
   ]
  },
  {
   "cell_type": "code",
   "execution_count": 3,
   "id": "793a8153",
   "metadata": {},
   "outputs": [],
   "source": [
    "# Dataset class\n",
    "class DominationGraphsDataset(Dataset):\n",
    "    \"\"\"\n",
    "    Spektral Dataset that holds `num_graphs` random graphs with labels equal to\n",
    "    their domination numbers.\n",
    "    \"\"\"\n",
    "\n",
    "    def __init__(self, num_graphs=NUM_GRAPHS, max_nodes=MAX_NODES, **kwargs):\n",
    "        if max_nodes < 10:\n",
    "            raise ValueError(\"`max_nodes` must be at least 10.\")\n",
    "        self.num_graphs = num_graphs\n",
    "        self.max_nodes = min(max_nodes, 64)  # Enforce 64-node ceiling\n",
    "        super().__init__(**kwargs)\n",
    "\n",
    "    # --------------------------------------------------------------------- #\n",
    "    #  Required by Spektral: returns a list of Graph objects                #\n",
    "    # --------------------------------------------------------------------- #\n",
    "    def read(self):\n",
    "        graphs = []\n",
    "\n",
    "        for _ in range(self.num_graphs):\n",
    "            n = random.randint(10, self.max_nodes)\n",
    "\n",
    "            # Change p’s range to control sparsity / density if desired\n",
    "            p = random.uniform(0.1, 0.5)\n",
    "            G_nx = nx.gnp_random_graph(n, p)\n",
    "\n",
    "            # Exact domination number (NP-hard; fine for ≤64-node graphs)\n",
    "            dom_num = gc.domination_number(G_nx)\n",
    "\n",
    "            # Convert to numpy adjacency matrix\n",
    "            a = nx.to_numpy_array(G_nx, dtype=np.float32)\n",
    "\n",
    "            # Simple identity node features (n × n)\n",
    "            x = np.eye(n, dtype=np.float32)\n",
    "\n",
    "            # Store domination number as a 1-element label vector\n",
    "            y = np.array([dom_num], dtype=np.float32)\n",
    "\n",
    "            graphs.append(Graph(x=x, a=a, y=y))\n",
    "\n",
    "        return graphs"
   ]
  },
  {
   "cell_type": "code",
   "execution_count": null,
   "id": "da50c6e2",
   "metadata": {},
   "outputs": [],
   "source": [
    "# Instantiate the dataset\n",
    "ds = DominationGraphsDataset()"
   ]
  },
  {
   "cell_type": "code",
   "execution_count": 7,
   "id": "030fab73",
   "metadata": {},
   "outputs": [
    {
     "name": "stdout",
     "output_type": "stream",
     "text": [
      "Domination number: 7\n",
      "Adjacency matrix shape: (61, 61)\n",
      "Adjacency matrix (dense):\n",
      "[[0 0 0 ... 0 0 1]\n",
      " [0 0 0 ... 0 0 0]\n",
      " [0 0 0 ... 0 0 0]\n",
      " ...\n",
      " [0 0 0 ... 0 0 0]\n",
      " [0 0 0 ... 0 0 1]\n",
      " [1 0 0 ... 0 1 0]]\n",
      "Node-feature matrix shape: (61, 61)\n"
     ]
    },
    {
     "name": "stderr",
     "output_type": "stream",
     "text": [
      "C:\\Users\\kylej\\AppData\\Local\\Temp\\ipykernel_33952\\856224493.py:4: DeprecationWarning: Conversion of an array with ndim > 0 to a scalar is deprecated, and will error in future. Ensure you extract a single element from your array before performing this operation. (Deprecated NumPy 1.25.)\n",
      "  print(\"Domination number:\", int(g0.y))      # scalar label\n"
     ]
    }
   ],
   "source": [
    "# Check the dataset\n",
    "g0 = ds[0]            # Spektral Graph instance\n",
    "\n",
    "print(\"Domination number:\", int(g0.y))      # scalar label\n",
    "print(\"Adjacency matrix shape:\", g0.a.shape)\n",
    "print(\"Adjacency matrix (dense):\")\n",
    "print(g0.a.astype(int))                     # cast to int for readability\n",
    "\n",
    "print(\"Node-feature matrix shape:\", g0.x.shape)\n"
   ]
  },
  {
   "cell_type": "code",
   "execution_count": 11,
   "id": "99378f4c",
   "metadata": {},
   "outputs": [],
   "source": [
    "from tensorflow.keras.models import Model\n",
    "from tensorflow.keras.layers import Dense, Dropout\n",
    "from spektral.layers import GCNConv, GlobalSumPool\n",
    "\n",
    "class GNN(Model):\n",
    "    def __init__(self, n_hidden, n_labels):\n",
    "        super().__init__()\n",
    "        self.graph_conv = GCNConv(n_hidden)\n",
    "        self.pool = GlobalSumPool()\n",
    "        self.dropout = Dropout(0.5)\n",
    "        self.dense = Dense(n_labels, 'softmax')\n",
    "\n",
    "    def call(self, inputs):\n",
    "        out = self.graph_conv(inputs)\n",
    "        out = self.dropout(out)\n",
    "        out = self.pool(out)\n",
    "        out = self.dense(out)\n",
    "\n",
    "        return out "
   ]
  },
  {
   "cell_type": "code",
   "execution_count": 12,
   "id": "19c65643",
   "metadata": {},
   "outputs": [],
   "source": [
    "model = GNN(32, 64)\n",
    "model.compile('adam', 'categorical_crossentropy')"
   ]
  },
  {
   "cell_type": "code",
   "execution_count": 13,
   "id": "80fa5e00",
   "metadata": {},
   "outputs": [],
   "source": [
    "ds_train = ds[:SPLIT_INDEX]\n",
    "ds_test = ds[SPLIT_INDEX:]"
   ]
  },
  {
   "cell_type": "code",
   "execution_count": 14,
   "id": "6d3c23f8",
   "metadata": {},
   "outputs": [],
   "source": [
    "from spektral.data import BatchLoader\n",
    "\n",
    "loader = BatchLoader(ds_train, batch_size=32)"
   ]
  },
  {
   "cell_type": "code",
   "execution_count": 15,
   "id": "b89f097c",
   "metadata": {},
   "outputs": [
    {
     "ename": "ValueError",
     "evalue": "Unrecognized data type: x=<spektral.data.loaders.BatchLoader object at 0x00000239D6383FB0> (of type <class 'spektral.data.loaders.BatchLoader'>)",
     "output_type": "error",
     "traceback": [
      "\u001b[31m---------------------------------------------------------------------------\u001b[39m",
      "\u001b[31mValueError\u001b[39m                                Traceback (most recent call last)",
      "\u001b[36mCell\u001b[39m\u001b[36m \u001b[39m\u001b[32mIn[15]\u001b[39m\u001b[32m, line 1\u001b[39m\n\u001b[32m----> \u001b[39m\u001b[32m1\u001b[39m \u001b[43mmodel\u001b[49m\u001b[43m.\u001b[49m\u001b[43mfit\u001b[49m\u001b[43m(\u001b[49m\u001b[43mloader\u001b[49m\u001b[43m.\u001b[49m\u001b[43mload\u001b[49m\u001b[43m(\u001b[49m\u001b[43m)\u001b[49m\u001b[43m,\u001b[49m\u001b[43m \u001b[49m\u001b[43msteps_per_epoch\u001b[49m\u001b[43m=\u001b[49m\u001b[43mloader\u001b[49m\u001b[43m.\u001b[49m\u001b[43msteps_per_epoch\u001b[49m\u001b[43m,\u001b[49m\u001b[43m \u001b[49m\u001b[43mepochs\u001b[49m\u001b[43m=\u001b[49m\u001b[32;43m10\u001b[39;49m\u001b[43m)\u001b[49m\n",
      "\u001b[36mFile \u001b[39m\u001b[32mc:\\Users\\kylej\\OneDrive\\Documents\\Schoolwork\\Research\\graph-neural-networks\\venv\\Lib\\site-packages\\keras\\src\\utils\\traceback_utils.py:122\u001b[39m, in \u001b[36mfilter_traceback.<locals>.error_handler\u001b[39m\u001b[34m(*args, **kwargs)\u001b[39m\n\u001b[32m    119\u001b[39m     filtered_tb = _process_traceback_frames(e.__traceback__)\n\u001b[32m    120\u001b[39m     \u001b[38;5;66;03m# To get the full stack trace, call:\u001b[39;00m\n\u001b[32m    121\u001b[39m     \u001b[38;5;66;03m# `keras.config.disable_traceback_filtering()`\u001b[39;00m\n\u001b[32m--> \u001b[39m\u001b[32m122\u001b[39m     \u001b[38;5;28;01mraise\u001b[39;00m e.with_traceback(filtered_tb) \u001b[38;5;28;01mfrom\u001b[39;00m\u001b[38;5;250m \u001b[39m\u001b[38;5;28;01mNone\u001b[39;00m\n\u001b[32m    123\u001b[39m \u001b[38;5;28;01mfinally\u001b[39;00m:\n\u001b[32m    124\u001b[39m     \u001b[38;5;28;01mdel\u001b[39;00m filtered_tb\n",
      "\u001b[36mFile \u001b[39m\u001b[32mc:\\Users\\kylej\\OneDrive\\Documents\\Schoolwork\\Research\\graph-neural-networks\\venv\\Lib\\site-packages\\keras\\src\\trainers\\data_adapters\\__init__.py:125\u001b[39m, in \u001b[36mget_data_adapter\u001b[39m\u001b[34m(x, y, sample_weight, batch_size, steps_per_epoch, shuffle, class_weight)\u001b[39m\n\u001b[32m    117\u001b[39m     \u001b[38;5;28;01mreturn\u001b[39;00m GeneratorDataAdapter(x)\n\u001b[32m    118\u001b[39m     \u001b[38;5;66;03m# TODO: should we warn or not?\u001b[39;00m\n\u001b[32m    119\u001b[39m     \u001b[38;5;66;03m# warnings.warn(\u001b[39;00m\n\u001b[32m    120\u001b[39m     \u001b[38;5;66;03m#     \"`shuffle=True` was passed, but will be ignored since the \"\u001b[39;00m\n\u001b[32m   (...)\u001b[39m\u001b[32m    123\u001b[39m     \u001b[38;5;66;03m# )\u001b[39;00m\n\u001b[32m    124\u001b[39m \u001b[38;5;28;01melse\u001b[39;00m:\n\u001b[32m--> \u001b[39m\u001b[32m125\u001b[39m     \u001b[38;5;28;01mraise\u001b[39;00m \u001b[38;5;167;01mValueError\u001b[39;00m(\u001b[33mf\u001b[39m\u001b[33m\"\u001b[39m\u001b[33mUnrecognized data type: x=\u001b[39m\u001b[38;5;132;01m{\u001b[39;00mx\u001b[38;5;132;01m}\u001b[39;00m\u001b[33m (of type \u001b[39m\u001b[38;5;132;01m{\u001b[39;00m\u001b[38;5;28mtype\u001b[39m(x)\u001b[38;5;132;01m}\u001b[39;00m\u001b[33m)\u001b[39m\u001b[33m\"\u001b[39m)\n",
      "\u001b[31mValueError\u001b[39m: Unrecognized data type: x=<spektral.data.loaders.BatchLoader object at 0x00000239D6383FB0> (of type <class 'spektral.data.loaders.BatchLoader'>)"
     ]
    }
   ],
   "source": [
    "model.fit(loader.load(), steps_per_epoch=loader.steps_per_epoch, epochs=10)"
   ]
  }
 ],
 "metadata": {
  "kernelspec": {
   "display_name": "venv",
   "language": "python",
   "name": "python3"
  },
  "language_info": {
   "codemirror_mode": {
    "name": "ipython",
    "version": 3
   },
   "file_extension": ".py",
   "mimetype": "text/x-python",
   "name": "python",
   "nbconvert_exporter": "python",
   "pygments_lexer": "ipython3",
   "version": "3.12.2"
  }
 },
 "nbformat": 4,
 "nbformat_minor": 5
}
